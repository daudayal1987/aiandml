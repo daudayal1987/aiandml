{
  "nbformat": 4,
  "nbformat_minor": 0,
  "metadata": {
    "colab": {
      "provenance": [],
      "collapsed_sections": [
        "LYbuqgsadtvy"
      ]
    },
    "kernelspec": {
      "name": "python3",
      "display_name": "Python 3"
    },
    "language_info": {
      "name": "python"
    }
  },
  "cells": [
    {
      "cell_type": "markdown",
      "source": [
        "# Predict the housing price for Boston housing price problem\n",
        "### Step1: Import all the required libraries"
      ],
      "metadata": {
        "id": "rAt85tXcYPXK"
      }
    },
    {
      "cell_type": "code",
      "execution_count": 1,
      "metadata": {
        "id": "vFZMRLcDWhB2"
      },
      "outputs": [],
      "source": [
        "import pandas as pd\n",
        "from sklearn.model_selection import train_test_split\n",
        "import tensorflow as tf\n",
        "from tensorflow.keras.models import Sequential\n",
        "from tensorflow.keras.layers import Dense\n",
        "import matplotlib.pyplot as plt"
      ]
    },
    {
      "cell_type": "markdown",
      "source": [
        "### Step2: Load dataset\n",
        "#### The dataset is, in fact, not in CSV format in the UCI Machine Learning Repository. The attributes are instead separated by whitespace. We can load this easily using the pandas library. Then split the input (X) and output (Y) attributes, making them easier to model with Keras and scikit-learn."
      ],
      "metadata": {
        "id": "igKUz2bcY7wQ"
      }
    },
    {
      "cell_type": "code",
      "source": [
        "dataframe = pd.read_csv(\"https://raw.githubusercontent.com/daudayal1987/aiandml/refs/heads/main/housing_boston.csv\", delim_whitespace=True, header=None)\n",
        "dataset = dataframe.values\n",
        "\n",
        "X = dataset[:,0:13]\n",
        "Y = dataset[:,13]\n",
        "\n",
        "#Create train, validation and test sets\n",
        "X_train_full, X_test, y_train_full, y_test = train_test_split(X, Y)\n",
        "X_train, X_valid, y_train, y_valid = train_test_split(X_train_full, y_train_full)\n"
      ],
      "metadata": {
        "colab": {
          "base_uri": "https://localhost:8080/"
        },
        "id": "PRdoAvZeY5eS",
        "outputId": "e6da9a69-6eb0-41fd-e377-6506e742cf6f"
      },
      "execution_count": 2,
      "outputs": [
        {
          "output_type": "stream",
          "name": "stderr",
          "text": [
            "/tmp/ipython-input-2-3644829609.py:1: FutureWarning: The 'delim_whitespace' keyword in pd.read_csv is deprecated and will be removed in a future version. Use ``sep='\\s+'`` instead\n",
            "  dataframe = pd.read_csv(\"https://raw.githubusercontent.com/daudayal1987/aiandml/refs/heads/main/housing_boston.csv\", delim_whitespace=True, header=None)\n"
          ]
        }
      ]
    },
    {
      "cell_type": "code",
      "source": [
        "X_train.shape"
      ],
      "metadata": {
        "colab": {
          "base_uri": "https://localhost:8080/"
        },
        "id": "GeCyTOPQkn2p",
        "outputId": "89c4dcb9-aa8b-4bd2-852d-733aca79abbe"
      },
      "execution_count": 3,
      "outputs": [
        {
          "output_type": "execute_result",
          "data": {
            "text/plain": [
              "(284, 13)"
            ]
          },
          "metadata": {},
          "execution_count": 3
        }
      ]
    },
    {
      "cell_type": "code",
      "source": [
        "X_test.shape"
      ],
      "metadata": {
        "colab": {
          "base_uri": "https://localhost:8080/"
        },
        "id": "8wfLtXAzk-vi",
        "outputId": "f8f241bc-b8cb-4a8b-8227-313cefcccf6c"
      },
      "execution_count": 4,
      "outputs": [
        {
          "output_type": "execute_result",
          "data": {
            "text/plain": [
              "(127, 13)"
            ]
          },
          "metadata": {},
          "execution_count": 4
        }
      ]
    },
    {
      "cell_type": "code",
      "source": [
        "X_valid.shape"
      ],
      "metadata": {
        "colab": {
          "base_uri": "https://localhost:8080/"
        },
        "id": "gLIoJogvlAz2",
        "outputId": "5c63c974-cc99-453f-d8d8-10dcc778c76e"
      },
      "execution_count": 5,
      "outputs": [
        {
          "output_type": "execute_result",
          "data": {
            "text/plain": [
              "(95, 13)"
            ]
          },
          "metadata": {},
          "execution_count": 5
        }
      ]
    },
    {
      "cell_type": "code",
      "source": [
        "y_train.shape"
      ],
      "metadata": {
        "colab": {
          "base_uri": "https://localhost:8080/"
        },
        "id": "uKddVqHwlCKs",
        "outputId": "d40fe713-5015-4a1b-97d7-a9220e1be113"
      },
      "execution_count": 6,
      "outputs": [
        {
          "output_type": "execute_result",
          "data": {
            "text/plain": [
              "(284,)"
            ]
          },
          "metadata": {},
          "execution_count": 6
        }
      ]
    },
    {
      "cell_type": "code",
      "source": [
        "y_test.shape"
      ],
      "metadata": {
        "colab": {
          "base_uri": "https://localhost:8080/"
        },
        "id": "wezygKQnlDoC",
        "outputId": "20d7a155-f7c3-4736-867a-a0d68b3d1172"
      },
      "execution_count": 7,
      "outputs": [
        {
          "output_type": "execute_result",
          "data": {
            "text/plain": [
              "(127,)"
            ]
          },
          "metadata": {},
          "execution_count": 7
        }
      ]
    },
    {
      "cell_type": "code",
      "source": [
        "y_valid.shape"
      ],
      "metadata": {
        "colab": {
          "base_uri": "https://localhost:8080/"
        },
        "id": "ypa6vSB3lEkN",
        "outputId": "5721be9f-470f-4137-fd12-853d41781299"
      },
      "execution_count": 8,
      "outputs": [
        {
          "output_type": "execute_result",
          "data": {
            "text/plain": [
              "(95,)"
            ]
          },
          "metadata": {},
          "execution_count": 8
        }
      ]
    },
    {
      "cell_type": "markdown",
      "source": [
        "### Step3: Define model\n",
        "\n"
      ],
      "metadata": {
        "id": "w-tj0Qv1cim1"
      }
    },
    {
      "cell_type": "code",
      "source": [
        "#define layers\n",
        "hidden_layer1 = Dense(13, input_shape=(13,), kernel_initializer=\"normal\", activation=\"relu\")\n",
        "output_layer = Dense(1, kernel_initializer=\"normal\")\n",
        "\n",
        "#define model\n",
        "model = Sequential()\n",
        "\n",
        "#add layers to model\n",
        "model.add(hidden_layer1)\n",
        "model.add(output_layer)\n",
        "\n",
        "#compile model\n",
        "model.compile(loss=\"mean_squared_error\", optimizer=\"adam\", metrics=[tf.keras.metrics.RootMeanSquaredError(), 'mean_absolute_percentage_error'])"
      ],
      "metadata": {
        "colab": {
          "base_uri": "https://localhost:8080/"
        },
        "id": "3S9xHDHQbVnc",
        "outputId": "c991f686-d303-4ced-8b4e-a176bf20ab39"
      },
      "execution_count": 9,
      "outputs": [
        {
          "output_type": "stream",
          "name": "stderr",
          "text": [
            "/usr/local/lib/python3.11/dist-packages/keras/src/layers/core/dense.py:87: UserWarning: Do not pass an `input_shape`/`input_dim` argument to a layer. When using Sequential models, prefer using an `Input(shape)` object as the first layer in the model instead.\n",
            "  super().__init__(activity_regularizer=activity_regularizer, **kwargs)\n"
          ]
        }
      ]
    },
    {
      "cell_type": "markdown",
      "source": [
        "### Step4: Print metadata for model"
      ],
      "metadata": {
        "id": "LYbuqgsadtvy"
      }
    },
    {
      "cell_type": "code",
      "source": [
        "model.summary()"
      ],
      "metadata": {
        "colab": {
          "base_uri": "https://localhost:8080/",
          "height": 0
        },
        "id": "2CdiM1IOdsfs",
        "outputId": "5807c0ff-e2e6-452b-b9fa-daec083a9be7"
      },
      "execution_count": 10,
      "outputs": [
        {
          "output_type": "display_data",
          "data": {
            "text/plain": [
              "\u001b[1mModel: \"sequential\"\u001b[0m\n"
            ],
            "text/html": [
              "<pre style=\"white-space:pre;overflow-x:auto;line-height:normal;font-family:Menlo,'DejaVu Sans Mono',consolas,'Courier New',monospace\"><span style=\"font-weight: bold\">Model: \"sequential\"</span>\n",
              "</pre>\n"
            ]
          },
          "metadata": {}
        },
        {
          "output_type": "display_data",
          "data": {
            "text/plain": [
              "┏━━━━━━━━━━━━━━━━━━━━━━━━━━━━━━━━━┳━━━━━━━━━━━━━━━━━━━━━━━━┳━━━━━━━━━━━━━━━┓\n",
              "┃\u001b[1m \u001b[0m\u001b[1mLayer (type)                   \u001b[0m\u001b[1m \u001b[0m┃\u001b[1m \u001b[0m\u001b[1mOutput Shape          \u001b[0m\u001b[1m \u001b[0m┃\u001b[1m \u001b[0m\u001b[1m      Param #\u001b[0m\u001b[1m \u001b[0m┃\n",
              "┡━━━━━━━━━━━━━━━━━━━━━━━━━━━━━━━━━╇━━━━━━━━━━━━━━━━━━━━━━━━╇━━━━━━━━━━━━━━━┩\n",
              "│ dense (\u001b[38;5;33mDense\u001b[0m)                   │ (\u001b[38;5;45mNone\u001b[0m, \u001b[38;5;34m13\u001b[0m)             │           \u001b[38;5;34m182\u001b[0m │\n",
              "├─────────────────────────────────┼────────────────────────┼───────────────┤\n",
              "│ dense_1 (\u001b[38;5;33mDense\u001b[0m)                 │ (\u001b[38;5;45mNone\u001b[0m, \u001b[38;5;34m1\u001b[0m)              │            \u001b[38;5;34m14\u001b[0m │\n",
              "└─────────────────────────────────┴────────────────────────┴───────────────┘\n"
            ],
            "text/html": [
              "<pre style=\"white-space:pre;overflow-x:auto;line-height:normal;font-family:Menlo,'DejaVu Sans Mono',consolas,'Courier New',monospace\">┏━━━━━━━━━━━━━━━━━━━━━━━━━━━━━━━━━┳━━━━━━━━━━━━━━━━━━━━━━━━┳━━━━━━━━━━━━━━━┓\n",
              "┃<span style=\"font-weight: bold\"> Layer (type)                    </span>┃<span style=\"font-weight: bold\"> Output Shape           </span>┃<span style=\"font-weight: bold\">       Param # </span>┃\n",
              "┡━━━━━━━━━━━━━━━━━━━━━━━━━━━━━━━━━╇━━━━━━━━━━━━━━━━━━━━━━━━╇━━━━━━━━━━━━━━━┩\n",
              "│ dense (<span style=\"color: #0087ff; text-decoration-color: #0087ff\">Dense</span>)                   │ (<span style=\"color: #00d7ff; text-decoration-color: #00d7ff\">None</span>, <span style=\"color: #00af00; text-decoration-color: #00af00\">13</span>)             │           <span style=\"color: #00af00; text-decoration-color: #00af00\">182</span> │\n",
              "├─────────────────────────────────┼────────────────────────┼───────────────┤\n",
              "│ dense_1 (<span style=\"color: #0087ff; text-decoration-color: #0087ff\">Dense</span>)                 │ (<span style=\"color: #00d7ff; text-decoration-color: #00d7ff\">None</span>, <span style=\"color: #00af00; text-decoration-color: #00af00\">1</span>)              │            <span style=\"color: #00af00; text-decoration-color: #00af00\">14</span> │\n",
              "└─────────────────────────────────┴────────────────────────┴───────────────┘\n",
              "</pre>\n"
            ]
          },
          "metadata": {}
        },
        {
          "output_type": "display_data",
          "data": {
            "text/plain": [
              "\u001b[1m Total params: \u001b[0m\u001b[38;5;34m196\u001b[0m (784.00 B)\n"
            ],
            "text/html": [
              "<pre style=\"white-space:pre;overflow-x:auto;line-height:normal;font-family:Menlo,'DejaVu Sans Mono',consolas,'Courier New',monospace\"><span style=\"font-weight: bold\"> Total params: </span><span style=\"color: #00af00; text-decoration-color: #00af00\">196</span> (784.00 B)\n",
              "</pre>\n"
            ]
          },
          "metadata": {}
        },
        {
          "output_type": "display_data",
          "data": {
            "text/plain": [
              "\u001b[1m Trainable params: \u001b[0m\u001b[38;5;34m196\u001b[0m (784.00 B)\n"
            ],
            "text/html": [
              "<pre style=\"white-space:pre;overflow-x:auto;line-height:normal;font-family:Menlo,'DejaVu Sans Mono',consolas,'Courier New',monospace\"><span style=\"font-weight: bold\"> Trainable params: </span><span style=\"color: #00af00; text-decoration-color: #00af00\">196</span> (784.00 B)\n",
              "</pre>\n"
            ]
          },
          "metadata": {}
        },
        {
          "output_type": "display_data",
          "data": {
            "text/plain": [
              "\u001b[1m Non-trainable params: \u001b[0m\u001b[38;5;34m0\u001b[0m (0.00 B)\n"
            ],
            "text/html": [
              "<pre style=\"white-space:pre;overflow-x:auto;line-height:normal;font-family:Menlo,'DejaVu Sans Mono',consolas,'Courier New',monospace\"><span style=\"font-weight: bold\"> Non-trainable params: </span><span style=\"color: #00af00; text-decoration-color: #00af00\">0</span> (0.00 B)\n",
              "</pre>\n"
            ]
          },
          "metadata": {}
        }
      ]
    },
    {
      "cell_type": "code",
      "source": [
        "for i, layer in enumerate(model.layers):\n",
        "    if hasattr(layer, 'kernel_initializer'):\n",
        "        print(f\"Layer {i} - {layer.name}:\")\n",
        "        print(\"  Kernel Initializer:\", layer.kernel_initializer)\n",
        "        print()"
      ],
      "metadata": {
        "colab": {
          "base_uri": "https://localhost:8080/"
        },
        "id": "vEx82MvLfG-P",
        "outputId": "6619c3bc-6821-4849-92e3-8dfdf431ad51"
      },
      "execution_count": 11,
      "outputs": [
        {
          "output_type": "stream",
          "name": "stdout",
          "text": [
            "Layer 0 - dense:\n",
            "  Kernel Initializer: <keras.src.initializers.random_initializers.RandomNormal object at 0x7eb238950bd0>\n",
            "\n",
            "Layer 1 - dense_1:\n",
            "  Kernel Initializer: <keras.src.initializers.random_initializers.RandomNormal object at 0x7eb238965b50>\n",
            "\n"
          ]
        }
      ]
    },
    {
      "cell_type": "code",
      "source": [
        "print(\"\\n📌 Initial Weights:\")\n",
        "for layer in model.layers:\n",
        "    weights = layer.get_weights()\n",
        "    if weights:\n",
        "        print(f\"Layer {layer.name} weights:\\n\", weights[0])\n",
        "        print(f\"Layer {layer.name} biases:\\n\", weights[1])"
      ],
      "metadata": {
        "colab": {
          "base_uri": "https://localhost:8080/"
        },
        "id": "VSr-QBvJfQoW",
        "outputId": "b1e623e1-29af-4168-fab9-476adc30b98e"
      },
      "execution_count": 12,
      "outputs": [
        {
          "output_type": "stream",
          "name": "stdout",
          "text": [
            "\n",
            "📌 Initial Weights:\n",
            "Layer dense weights:\n",
            " [[-0.06920469 -0.06236402  0.01105515 -0.03766411  0.02476395 -0.01188209\n",
            "   0.01767804  0.10316224  0.05976937 -0.04676432 -0.08988713 -0.02742209\n",
            "  -0.0225722 ]\n",
            " [ 0.02751539 -0.05968232 -0.01143575 -0.02216029 -0.01665729  0.00559409\n",
            "  -0.06341629  0.01194587 -0.03498967 -0.0483394   0.05423133  0.05664941\n",
            "   0.02678415]\n",
            " [ 0.02367077  0.02428091  0.00980269 -0.08603931 -0.05091792 -0.07970598\n",
            "   0.00883933  0.00329702 -0.05221777  0.10882317 -0.01770207 -0.00744867\n",
            "   0.05168195]\n",
            " [ 0.02397082 -0.01848745 -0.02448771 -0.04807844 -0.00520465 -0.03938622\n",
            "  -0.05873257  0.05604164 -0.11620227  0.01042347  0.05876712  0.07122754\n",
            "  -0.04367523]\n",
            " [ 0.00306108 -0.00442269  0.01429711  0.0008184   0.01075074  0.03329502\n",
            "   0.02922511  0.0076369   0.03723855 -0.01148918 -0.05889487 -0.00422449\n",
            "   0.06377392]\n",
            " [-0.06497767 -0.02284758  0.01897802  0.05981157  0.00947354 -0.02067119\n",
            "   0.00892619  0.01421928  0.09761908  0.0497951  -0.0288082   0.04122114\n",
            "   0.00778689]\n",
            " [-0.0728235  -0.01965166 -0.04168767 -0.01527565 -0.01825708  0.05384348\n",
            "   0.00183513  0.01875261 -0.01923228  0.03327243 -0.05751193  0.0237851\n",
            "  -0.04454393]\n",
            " [-0.07928916  0.02565313 -0.09305167 -0.06136644 -0.04175267 -0.05251124\n",
            "   0.0119227   0.048065   -0.08121581  0.00250169 -0.05114044 -0.05681241\n",
            "   0.06365912]\n",
            " [ 0.03834784 -0.00667821 -0.04643416 -0.06109848  0.01917286 -0.05538322\n",
            "   0.01922926  0.03086681 -0.11633532  0.04893797  0.05391992 -0.04634076\n",
            "   0.00927125]\n",
            " [ 0.048165    0.03582164  0.01213062  0.07862409  0.06892484 -0.05954369\n",
            "   0.00360518 -0.08255553 -0.05064179  0.15287298  0.00537486  0.10533655\n",
            "   0.00453181]\n",
            " [ 0.03821805  0.02660914  0.05327551  0.07819065  0.08837708  0.02360117\n",
            "   0.01745117  0.00418696  0.03005444  0.00906313 -0.0404905  -0.02370604\n",
            "   0.06313302]\n",
            " [-0.01673375 -0.02550547 -0.06178064  0.03538237  0.06201529  0.0739163\n",
            "  -0.02365774  0.0349284   0.00967159  0.00615246  0.01574407 -0.07783414\n",
            "  -0.02633567]\n",
            " [ 0.04165972 -0.01793273  0.04941592  0.02615462  0.00534803  0.03125305\n",
            "   0.05621532  0.02203826 -0.03804192 -0.00318489 -0.0459037  -0.02507645\n",
            "   0.0417568 ]]\n",
            "Layer dense biases:\n",
            " [0. 0. 0. 0. 0. 0. 0. 0. 0. 0. 0. 0. 0.]\n",
            "Layer dense_1 weights:\n",
            " [[-0.09666526]\n",
            " [ 0.02446109]\n",
            " [-0.01313846]\n",
            " [ 0.05931529]\n",
            " [-0.00999495]\n",
            " [ 0.02478899]\n",
            " [ 0.00124771]\n",
            " [-0.0136199 ]\n",
            " [-0.03557486]\n",
            " [-0.05117118]\n",
            " [ 0.06054552]\n",
            " [ 0.05066412]\n",
            " [-0.02026061]]\n",
            "Layer dense_1 biases:\n",
            " [0.]\n"
          ]
        }
      ]
    },
    {
      "cell_type": "markdown",
      "source": [
        "### Step5: Train the model"
      ],
      "metadata": {
        "id": "GOWkBhAVgcKh"
      }
    },
    {
      "cell_type": "code",
      "source": [
        "history = model.fit(X_train, y_train, epochs=100, batch_size=10, validation_data=(X_valid, y_valid))"
      ],
      "metadata": {
        "colab": {
          "base_uri": "https://localhost:8080/"
        },
        "id": "PabiDvwFgef2",
        "outputId": "ce625072-0cb3-4e16-b7a4-14f02279f7ec"
      },
      "execution_count": 13,
      "outputs": [
        {
          "output_type": "stream",
          "name": "stdout",
          "text": [
            "Epoch 1/100\n",
            "\u001b[1m29/29\u001b[0m \u001b[32m━━━━━━━━━━━━━━━━━━━━\u001b[0m\u001b[37m\u001b[0m \u001b[1m5s\u001b[0m 78ms/step - loss: 493.5554 - mean_absolute_percentage_error: 87.0283 - root_mean_squared_error: 22.1465 - val_loss: 197.3186 - val_mean_absolute_percentage_error: 45.1247 - val_root_mean_squared_error: 14.0470\n",
            "Epoch 2/100\n",
            "\u001b[1m29/29\u001b[0m \u001b[32m━━━━━━━━━━━━━━━━━━━━\u001b[0m\u001b[37m\u001b[0m \u001b[1m1s\u001b[0m 27ms/step - loss: 169.5871 - mean_absolute_percentage_error: 46.5936 - root_mean_squared_error: 12.9543 - val_loss: 122.9906 - val_mean_absolute_percentage_error: 41.0569 - val_root_mean_squared_error: 11.0901\n",
            "Epoch 3/100\n",
            "\u001b[1m29/29\u001b[0m \u001b[32m━━━━━━━━━━━━━━━━━━━━\u001b[0m\u001b[37m\u001b[0m \u001b[1m1s\u001b[0m 6ms/step - loss: 127.7243 - mean_absolute_percentage_error: 45.3153 - root_mean_squared_error: 11.2710 - val_loss: 106.4553 - val_mean_absolute_percentage_error: 34.2463 - val_root_mean_squared_error: 10.3177\n",
            "Epoch 4/100\n",
            "\u001b[1m29/29\u001b[0m \u001b[32m━━━━━━━━━━━━━━━━━━━━\u001b[0m\u001b[37m\u001b[0m \u001b[1m0s\u001b[0m 8ms/step - loss: 99.9461 - mean_absolute_percentage_error: 36.1193 - root_mean_squared_error: 9.9075 - val_loss: 92.9154 - val_mean_absolute_percentage_error: 27.7805 - val_root_mean_squared_error: 9.6393\n",
            "Epoch 5/100\n",
            "\u001b[1m29/29\u001b[0m \u001b[32m━━━━━━━━━━━━━━━━━━━━\u001b[0m\u001b[37m\u001b[0m \u001b[1m0s\u001b[0m 6ms/step - loss: 78.9206 - mean_absolute_percentage_error: 31.7965 - root_mean_squared_error: 8.8569 - val_loss: 76.7655 - val_mean_absolute_percentage_error: 29.2523 - val_root_mean_squared_error: 8.7616\n",
            "Epoch 6/100\n",
            "\u001b[1m29/29\u001b[0m \u001b[32m━━━━━━━━━━━━━━━━━━━━\u001b[0m\u001b[37m\u001b[0m \u001b[1m0s\u001b[0m 6ms/step - loss: 74.8788 - mean_absolute_percentage_error: 31.0497 - root_mean_squared_error: 8.6416 - val_loss: 75.0976 - val_mean_absolute_percentage_error: 24.1270 - val_root_mean_squared_error: 8.6659\n",
            "Epoch 7/100\n",
            "\u001b[1m29/29\u001b[0m \u001b[32m━━━━━━━━━━━━━━━━━━━━\u001b[0m\u001b[37m\u001b[0m \u001b[1m0s\u001b[0m 8ms/step - loss: 69.7035 - mean_absolute_percentage_error: 28.2983 - root_mean_squared_error: 8.2972 - val_loss: 70.6103 - val_mean_absolute_percentage_error: 24.4933 - val_root_mean_squared_error: 8.4030\n",
            "Epoch 8/100\n",
            "\u001b[1m29/29\u001b[0m \u001b[32m━━━━━━━━━━━━━━━━━━━━\u001b[0m\u001b[37m\u001b[0m \u001b[1m0s\u001b[0m 7ms/step - loss: 70.9038 - mean_absolute_percentage_error: 31.7266 - root_mean_squared_error: 8.3999 - val_loss: 71.3637 - val_mean_absolute_percentage_error: 24.0086 - val_root_mean_squared_error: 8.4477\n",
            "Epoch 9/100\n",
            "\u001b[1m29/29\u001b[0m \u001b[32m━━━━━━━━━━━━━━━━━━━━\u001b[0m\u001b[37m\u001b[0m \u001b[1m0s\u001b[0m 7ms/step - loss: 65.9074 - mean_absolute_percentage_error: 29.3115 - root_mean_squared_error: 8.1002 - val_loss: 66.3625 - val_mean_absolute_percentage_error: 25.2484 - val_root_mean_squared_error: 8.1463\n",
            "Epoch 10/100\n",
            "\u001b[1m29/29\u001b[0m \u001b[32m━━━━━━━━━━━━━━━━━━━━\u001b[0m\u001b[37m\u001b[0m \u001b[1m0s\u001b[0m 7ms/step - loss: 65.1576 - mean_absolute_percentage_error: 33.1364 - root_mean_squared_error: 8.0473 - val_loss: 74.0352 - val_mean_absolute_percentage_error: 23.3815 - val_root_mean_squared_error: 8.6044\n",
            "Epoch 11/100\n",
            "\u001b[1m29/29\u001b[0m \u001b[32m━━━━━━━━━━━━━━━━━━━━\u001b[0m\u001b[37m\u001b[0m \u001b[1m0s\u001b[0m 7ms/step - loss: 51.9573 - mean_absolute_percentage_error: 26.3854 - root_mean_squared_error: 7.1543 - val_loss: 64.5587 - val_mean_absolute_percentage_error: 25.8235 - val_root_mean_squared_error: 8.0348\n",
            "Epoch 12/100\n",
            "\u001b[1m29/29\u001b[0m \u001b[32m━━━━━━━━━━━━━━━━━━━━\u001b[0m\u001b[37m\u001b[0m \u001b[1m0s\u001b[0m 7ms/step - loss: 58.3775 - mean_absolute_percentage_error: 28.7809 - root_mean_squared_error: 7.6320 - val_loss: 66.1034 - val_mean_absolute_percentage_error: 23.2535 - val_root_mean_squared_error: 8.1304\n",
            "Epoch 13/100\n",
            "\u001b[1m29/29\u001b[0m \u001b[32m━━━━━━━━━━━━━━━━━━━━\u001b[0m\u001b[37m\u001b[0m \u001b[1m0s\u001b[0m 7ms/step - loss: 60.0963 - mean_absolute_percentage_error: 28.8003 - root_mean_squared_error: 7.7046 - val_loss: 63.9836 - val_mean_absolute_percentage_error: 23.9409 - val_root_mean_squared_error: 7.9990\n",
            "Epoch 14/100\n",
            "\u001b[1m29/29\u001b[0m \u001b[32m━━━━━━━━━━━━━━━━━━━━\u001b[0m\u001b[37m\u001b[0m \u001b[1m0s\u001b[0m 12ms/step - loss: 55.6538 - mean_absolute_percentage_error: 28.7730 - root_mean_squared_error: 7.4300 - val_loss: 62.9421 - val_mean_absolute_percentage_error: 25.2109 - val_root_mean_squared_error: 7.9336\n",
            "Epoch 15/100\n",
            "\u001b[1m29/29\u001b[0m \u001b[32m━━━━━━━━━━━━━━━━━━━━\u001b[0m\u001b[37m\u001b[0m \u001b[1m1s\u001b[0m 10ms/step - loss: 69.7190 - mean_absolute_percentage_error: 28.6854 - root_mean_squared_error: 8.3132 - val_loss: 78.3902 - val_mean_absolute_percentage_error: 23.2378 - val_root_mean_squared_error: 8.8538\n",
            "Epoch 16/100\n",
            "\u001b[1m29/29\u001b[0m \u001b[32m━━━━━━━━━━━━━━━━━━━━\u001b[0m\u001b[37m\u001b[0m \u001b[1m1s\u001b[0m 7ms/step - loss: 53.2234 - mean_absolute_percentage_error: 26.4484 - root_mean_squared_error: 7.2733 - val_loss: 62.5120 - val_mean_absolute_percentage_error: 23.0625 - val_root_mean_squared_error: 7.9065\n",
            "Epoch 17/100\n",
            "\u001b[1m29/29\u001b[0m \u001b[32m━━━━━━━━━━━━━━━━━━━━\u001b[0m\u001b[37m\u001b[0m \u001b[1m0s\u001b[0m 7ms/step - loss: 47.8017 - mean_absolute_percentage_error: 25.5730 - root_mean_squared_error: 6.8985 - val_loss: 62.4556 - val_mean_absolute_percentage_error: 23.2576 - val_root_mean_squared_error: 7.9029\n",
            "Epoch 18/100\n",
            "\u001b[1m29/29\u001b[0m \u001b[32m━━━━━━━━━━━━━━━━━━━━\u001b[0m\u001b[37m\u001b[0m \u001b[1m0s\u001b[0m 7ms/step - loss: 36.8819 - mean_absolute_percentage_error: 24.2889 - root_mean_squared_error: 6.0175 - val_loss: 61.3889 - val_mean_absolute_percentage_error: 25.0721 - val_root_mean_squared_error: 7.8351\n",
            "Epoch 19/100\n",
            "\u001b[1m29/29\u001b[0m \u001b[32m━━━━━━━━━━━━━━━━━━━━\u001b[0m\u001b[37m\u001b[0m \u001b[1m0s\u001b[0m 7ms/step - loss: 53.0815 - mean_absolute_percentage_error: 28.1441 - root_mean_squared_error: 7.2760 - val_loss: 61.1357 - val_mean_absolute_percentage_error: 23.0041 - val_root_mean_squared_error: 7.8189\n",
            "Epoch 20/100\n",
            "\u001b[1m29/29\u001b[0m \u001b[32m━━━━━━━━━━━━━━━━━━━━\u001b[0m\u001b[37m\u001b[0m \u001b[1m0s\u001b[0m 8ms/step - loss: 45.9413 - mean_absolute_percentage_error: 26.3071 - root_mean_squared_error: 6.7651 - val_loss: 61.5946 - val_mean_absolute_percentage_error: 22.6720 - val_root_mean_squared_error: 7.8482\n",
            "Epoch 21/100\n",
            "\u001b[1m29/29\u001b[0m \u001b[32m━━━━━━━━━━━━━━━━━━━━\u001b[0m\u001b[37m\u001b[0m \u001b[1m0s\u001b[0m 7ms/step - loss: 48.3989 - mean_absolute_percentage_error: 26.8970 - root_mean_squared_error: 6.9128 - val_loss: 61.2604 - val_mean_absolute_percentage_error: 22.2771 - val_root_mean_squared_error: 7.8269\n",
            "Epoch 22/100\n",
            "\u001b[1m29/29\u001b[0m \u001b[32m━━━━━━━━━━━━━━━━━━━━\u001b[0m\u001b[37m\u001b[0m \u001b[1m0s\u001b[0m 7ms/step - loss: 57.1631 - mean_absolute_percentage_error: 25.7141 - root_mean_squared_error: 7.5510 - val_loss: 62.0418 - val_mean_absolute_percentage_error: 21.8095 - val_root_mean_squared_error: 7.8767\n",
            "Epoch 23/100\n",
            "\u001b[1m29/29\u001b[0m \u001b[32m━━━━━━━━━━━━━━━━━━━━\u001b[0m\u001b[37m\u001b[0m \u001b[1m0s\u001b[0m 7ms/step - loss: 44.8734 - mean_absolute_percentage_error: 24.1557 - root_mean_squared_error: 6.6478 - val_loss: 58.5153 - val_mean_absolute_percentage_error: 24.0720 - val_root_mean_squared_error: 7.6495\n",
            "Epoch 24/100\n",
            "\u001b[1m29/29\u001b[0m \u001b[32m━━━━━━━━━━━━━━━━━━━━\u001b[0m\u001b[37m\u001b[0m \u001b[1m0s\u001b[0m 8ms/step - loss: 52.4958 - mean_absolute_percentage_error: 26.3042 - root_mean_squared_error: 7.2271 - val_loss: 57.9653 - val_mean_absolute_percentage_error: 23.0810 - val_root_mean_squared_error: 7.6135\n",
            "Epoch 25/100\n",
            "\u001b[1m29/29\u001b[0m \u001b[32m━━━━━━━━━━━━━━━━━━━━\u001b[0m\u001b[37m\u001b[0m \u001b[1m0s\u001b[0m 7ms/step - loss: 58.2242 - mean_absolute_percentage_error: 26.4604 - root_mean_squared_error: 7.6028 - val_loss: 57.8928 - val_mean_absolute_percentage_error: 22.0144 - val_root_mean_squared_error: 7.6087\n",
            "Epoch 26/100\n",
            "\u001b[1m29/29\u001b[0m \u001b[32m━━━━━━━━━━━━━━━━━━━━\u001b[0m\u001b[37m\u001b[0m \u001b[1m0s\u001b[0m 6ms/step - loss: 39.7696 - mean_absolute_percentage_error: 23.0823 - root_mean_squared_error: 6.2743 - val_loss: 56.9180 - val_mean_absolute_percentage_error: 23.5133 - val_root_mean_squared_error: 7.5444\n",
            "Epoch 27/100\n",
            "\u001b[1m29/29\u001b[0m \u001b[32m━━━━━━━━━━━━━━━━━━━━\u001b[0m\u001b[37m\u001b[0m \u001b[1m0s\u001b[0m 7ms/step - loss: 57.7306 - mean_absolute_percentage_error: 27.6033 - root_mean_squared_error: 7.5769 - val_loss: 60.4739 - val_mean_absolute_percentage_error: 20.9688 - val_root_mean_squared_error: 7.7765\n",
            "Epoch 28/100\n",
            "\u001b[1m29/29\u001b[0m \u001b[32m━━━━━━━━━━━━━━━━━━━━\u001b[0m\u001b[37m\u001b[0m \u001b[1m0s\u001b[0m 7ms/step - loss: 38.0923 - mean_absolute_percentage_error: 22.1572 - root_mean_squared_error: 6.0569 - val_loss: 56.8744 - val_mean_absolute_percentage_error: 21.2313 - val_root_mean_squared_error: 7.5415\n",
            "Epoch 29/100\n",
            "\u001b[1m29/29\u001b[0m \u001b[32m━━━━━━━━━━━━━━━━━━━━\u001b[0m\u001b[37m\u001b[0m \u001b[1m0s\u001b[0m 7ms/step - loss: 38.1092 - mean_absolute_percentage_error: 21.8555 - root_mean_squared_error: 6.1186 - val_loss: 55.4413 - val_mean_absolute_percentage_error: 22.1683 - val_root_mean_squared_error: 7.4459\n",
            "Epoch 30/100\n",
            "\u001b[1m29/29\u001b[0m \u001b[32m━━━━━━━━━━━━━━━━━━━━\u001b[0m\u001b[37m\u001b[0m \u001b[1m0s\u001b[0m 7ms/step - loss: 41.8458 - mean_absolute_percentage_error: 23.2145 - root_mean_squared_error: 6.4441 - val_loss: 54.8393 - val_mean_absolute_percentage_error: 23.2948 - val_root_mean_squared_error: 7.4054\n",
            "Epoch 31/100\n",
            "\u001b[1m29/29\u001b[0m \u001b[32m━━━━━━━━━━━━━━━━━━━━\u001b[0m\u001b[37m\u001b[0m \u001b[1m0s\u001b[0m 7ms/step - loss: 41.7188 - mean_absolute_percentage_error: 23.5808 - root_mean_squared_error: 6.4519 - val_loss: 54.7163 - val_mean_absolute_percentage_error: 21.2640 - val_root_mean_squared_error: 7.3970\n",
            "Epoch 32/100\n",
            "\u001b[1m29/29\u001b[0m \u001b[32m━━━━━━━━━━━━━━━━━━━━\u001b[0m\u001b[37m\u001b[0m \u001b[1m0s\u001b[0m 6ms/step - loss: 41.2570 - mean_absolute_percentage_error: 22.2379 - root_mean_squared_error: 6.3470 - val_loss: 53.9734 - val_mean_absolute_percentage_error: 23.0325 - val_root_mean_squared_error: 7.3467\n",
            "Epoch 33/100\n",
            "\u001b[1m29/29\u001b[0m \u001b[32m━━━━━━━━━━━━━━━━━━━━\u001b[0m\u001b[37m\u001b[0m \u001b[1m0s\u001b[0m 7ms/step - loss: 48.5963 - mean_absolute_percentage_error: 24.7678 - root_mean_squared_error: 6.9550 - val_loss: 57.2264 - val_mean_absolute_percentage_error: 19.8846 - val_root_mean_squared_error: 7.5648\n",
            "Epoch 34/100\n",
            "\u001b[1m29/29\u001b[0m \u001b[32m━━━━━━━━━━━━━━━━━━━━\u001b[0m\u001b[37m\u001b[0m \u001b[1m0s\u001b[0m 7ms/step - loss: 38.7765 - mean_absolute_percentage_error: 22.1065 - root_mean_squared_error: 6.1100 - val_loss: 52.9384 - val_mean_absolute_percentage_error: 20.6166 - val_root_mean_squared_error: 7.2759\n",
            "Epoch 35/100\n",
            "\u001b[1m29/29\u001b[0m \u001b[32m━━━━━━━━━━━━━━━━━━━━\u001b[0m\u001b[37m\u001b[0m \u001b[1m0s\u001b[0m 11ms/step - loss: 38.4729 - mean_absolute_percentage_error: 22.1114 - root_mean_squared_error: 6.1629 - val_loss: 52.5507 - val_mean_absolute_percentage_error: 20.5447 - val_root_mean_squared_error: 7.2492\n",
            "Epoch 36/100\n",
            "\u001b[1m29/29\u001b[0m \u001b[32m━━━━━━━━━━━━━━━━━━━━\u001b[0m\u001b[37m\u001b[0m \u001b[1m1s\u001b[0m 10ms/step - loss: 44.8899 - mean_absolute_percentage_error: 24.4388 - root_mean_squared_error: 6.6899 - val_loss: 53.1355 - val_mean_absolute_percentage_error: 19.6611 - val_root_mean_squared_error: 7.2894\n",
            "Epoch 37/100\n",
            "\u001b[1m29/29\u001b[0m \u001b[32m━━━━━━━━━━━━━━━━━━━━\u001b[0m\u001b[37m\u001b[0m \u001b[1m1s\u001b[0m 13ms/step - loss: 47.6896 - mean_absolute_percentage_error: 22.6235 - root_mean_squared_error: 6.8869 - val_loss: 54.4424 - val_mean_absolute_percentage_error: 19.0860 - val_root_mean_squared_error: 7.3785\n",
            "Epoch 38/100\n",
            "\u001b[1m29/29\u001b[0m \u001b[32m━━━━━━━━━━━━━━━━━━━━\u001b[0m\u001b[37m\u001b[0m \u001b[1m1s\u001b[0m 12ms/step - loss: 41.5641 - mean_absolute_percentage_error: 23.4711 - root_mean_squared_error: 6.4413 - val_loss: 53.0284 - val_mean_absolute_percentage_error: 25.2731 - val_root_mean_squared_error: 7.2821\n",
            "Epoch 39/100\n",
            "\u001b[1m29/29\u001b[0m \u001b[32m━━━━━━━━━━━━━━━━━━━━\u001b[0m\u001b[37m\u001b[0m \u001b[1m1s\u001b[0m 13ms/step - loss: 45.9994 - mean_absolute_percentage_error: 24.9213 - root_mean_squared_error: 6.7725 - val_loss: 52.1678 - val_mean_absolute_percentage_error: 18.8959 - val_root_mean_squared_error: 7.2227\n",
            "Epoch 40/100\n",
            "\u001b[1m29/29\u001b[0m \u001b[32m━━━━━━━━━━━━━━━━━━━━\u001b[0m\u001b[37m\u001b[0m \u001b[1m0s\u001b[0m 7ms/step - loss: 49.5015 - mean_absolute_percentage_error: 23.9953 - root_mean_squared_error: 6.9973 - val_loss: 59.5134 - val_mean_absolute_percentage_error: 19.3624 - val_root_mean_squared_error: 7.7145\n",
            "Epoch 41/100\n",
            "\u001b[1m29/29\u001b[0m \u001b[32m━━━━━━━━━━━━━━━━━━━━\u001b[0m\u001b[37m\u001b[0m \u001b[1m0s\u001b[0m 7ms/step - loss: 56.4456 - mean_absolute_percentage_error: 22.8583 - root_mean_squared_error: 7.4908 - val_loss: 60.4869 - val_mean_absolute_percentage_error: 19.2620 - val_root_mean_squared_error: 7.7773\n",
            "Epoch 42/100\n",
            "\u001b[1m29/29\u001b[0m \u001b[32m━━━━━━━━━━━━━━━━━━━━\u001b[0m\u001b[37m\u001b[0m \u001b[1m0s\u001b[0m 7ms/step - loss: 43.8400 - mean_absolute_percentage_error: 20.5788 - root_mean_squared_error: 6.5887 - val_loss: 53.1755 - val_mean_absolute_percentage_error: 18.3082 - val_root_mean_squared_error: 7.2922\n",
            "Epoch 43/100\n",
            "\u001b[1m29/29\u001b[0m \u001b[32m━━━━━━━━━━━━━━━━━━━━\u001b[0m\u001b[37m\u001b[0m \u001b[1m0s\u001b[0m 7ms/step - loss: 44.5560 - mean_absolute_percentage_error: 21.9782 - root_mean_squared_error: 6.6390 - val_loss: 49.1461 - val_mean_absolute_percentage_error: 18.7180 - val_root_mean_squared_error: 7.0104\n",
            "Epoch 44/100\n",
            "\u001b[1m29/29\u001b[0m \u001b[32m━━━━━━━━━━━━━━━━━━━━\u001b[0m\u001b[37m\u001b[0m \u001b[1m0s\u001b[0m 8ms/step - loss: 49.9966 - mean_absolute_percentage_error: 22.9990 - root_mean_squared_error: 7.0485 - val_loss: 51.0785 - val_mean_absolute_percentage_error: 18.0583 - val_root_mean_squared_error: 7.1469\n",
            "Epoch 45/100\n",
            "\u001b[1m29/29\u001b[0m \u001b[32m━━━━━━━━━━━━━━━━━━━━\u001b[0m\u001b[37m\u001b[0m \u001b[1m0s\u001b[0m 6ms/step - loss: 51.7646 - mean_absolute_percentage_error: 23.3976 - root_mean_squared_error: 7.1483 - val_loss: 47.4747 - val_mean_absolute_percentage_error: 18.5383 - val_root_mean_squared_error: 6.8902\n",
            "Epoch 46/100\n",
            "\u001b[1m29/29\u001b[0m \u001b[32m━━━━━━━━━━━━━━━━━━━━\u001b[0m\u001b[37m\u001b[0m \u001b[1m0s\u001b[0m 6ms/step - loss: 32.7339 - mean_absolute_percentage_error: 21.7954 - root_mean_squared_error: 5.7085 - val_loss: 47.2227 - val_mean_absolute_percentage_error: 18.3478 - val_root_mean_squared_error: 6.8719\n",
            "Epoch 47/100\n",
            "\u001b[1m29/29\u001b[0m \u001b[32m━━━━━━━━━━━━━━━━━━━━\u001b[0m\u001b[37m\u001b[0m \u001b[1m0s\u001b[0m 7ms/step - loss: 44.2502 - mean_absolute_percentage_error: 23.4515 - root_mean_squared_error: 6.6211 - val_loss: 47.9367 - val_mean_absolute_percentage_error: 17.6754 - val_root_mean_squared_error: 6.9236\n",
            "Epoch 48/100\n",
            "\u001b[1m29/29\u001b[0m \u001b[32m━━━━━━━━━━━━━━━━━━━━\u001b[0m\u001b[37m\u001b[0m \u001b[1m0s\u001b[0m 7ms/step - loss: 41.1267 - mean_absolute_percentage_error: 22.8030 - root_mean_squared_error: 6.3897 - val_loss: 45.4541 - val_mean_absolute_percentage_error: 18.8839 - val_root_mean_squared_error: 6.7420\n",
            "Epoch 49/100\n",
            "\u001b[1m29/29\u001b[0m \u001b[32m━━━━━━━━━━━━━━━━━━━━\u001b[0m\u001b[37m\u001b[0m \u001b[1m0s\u001b[0m 7ms/step - loss: 35.7599 - mean_absolute_percentage_error: 21.9084 - root_mean_squared_error: 5.9744 - val_loss: 45.6234 - val_mean_absolute_percentage_error: 17.9996 - val_root_mean_squared_error: 6.7545\n",
            "Epoch 50/100\n",
            "\u001b[1m29/29\u001b[0m \u001b[32m━━━━━━━━━━━━━━━━━━━━\u001b[0m\u001b[37m\u001b[0m \u001b[1m0s\u001b[0m 7ms/step - loss: 37.3188 - mean_absolute_percentage_error: 21.2144 - root_mean_squared_error: 6.0824 - val_loss: 49.9092 - val_mean_absolute_percentage_error: 17.6336 - val_root_mean_squared_error: 7.0646\n",
            "Epoch 51/100\n",
            "\u001b[1m29/29\u001b[0m \u001b[32m━━━━━━━━━━━━━━━━━━━━\u001b[0m\u001b[37m\u001b[0m \u001b[1m0s\u001b[0m 10ms/step - loss: 36.2111 - mean_absolute_percentage_error: 20.8898 - root_mean_squared_error: 5.9905 - val_loss: 45.6223 - val_mean_absolute_percentage_error: 17.4552 - val_root_mean_squared_error: 6.7544\n",
            "Epoch 52/100\n",
            "\u001b[1m29/29\u001b[0m \u001b[32m━━━━━━━━━━━━━━━━━━━━\u001b[0m\u001b[37m\u001b[0m \u001b[1m1s\u001b[0m 7ms/step - loss: 40.1271 - mean_absolute_percentage_error: 21.6266 - root_mean_squared_error: 6.3266 - val_loss: 46.4145 - val_mean_absolute_percentage_error: 17.3107 - val_root_mean_squared_error: 6.8128\n",
            "Epoch 53/100\n",
            "\u001b[1m29/29\u001b[0m \u001b[32m━━━━━━━━━━━━━━━━━━━━\u001b[0m\u001b[37m\u001b[0m \u001b[1m0s\u001b[0m 7ms/step - loss: 39.5975 - mean_absolute_percentage_error: 22.3985 - root_mean_squared_error: 6.2703 - val_loss: 44.9375 - val_mean_absolute_percentage_error: 17.2332 - val_root_mean_squared_error: 6.7035\n",
            "Epoch 54/100\n",
            "\u001b[1m29/29\u001b[0m \u001b[32m━━━━━━━━━━━━━━━━━━━━\u001b[0m\u001b[37m\u001b[0m \u001b[1m0s\u001b[0m 8ms/step - loss: 28.0761 - mean_absolute_percentage_error: 19.6264 - root_mean_squared_error: 5.2600 - val_loss: 42.9160 - val_mean_absolute_percentage_error: 19.1267 - val_root_mean_squared_error: 6.5510\n",
            "Epoch 55/100\n",
            "\u001b[1m29/29\u001b[0m \u001b[32m━━━━━━━━━━━━━━━━━━━━\u001b[0m\u001b[37m\u001b[0m \u001b[1m0s\u001b[0m 6ms/step - loss: 37.3269 - mean_absolute_percentage_error: 20.2692 - root_mean_squared_error: 6.0857 - val_loss: 47.2417 - val_mean_absolute_percentage_error: 17.0858 - val_root_mean_squared_error: 6.8733\n",
            "Epoch 56/100\n",
            "\u001b[1m29/29\u001b[0m \u001b[32m━━━━━━━━━━━━━━━━━━━━\u001b[0m\u001b[37m\u001b[0m \u001b[1m0s\u001b[0m 7ms/step - loss: 34.1588 - mean_absolute_percentage_error: 18.3460 - root_mean_squared_error: 5.8110 - val_loss: 45.1089 - val_mean_absolute_percentage_error: 16.7463 - val_root_mean_squared_error: 6.7163\n",
            "Epoch 57/100\n",
            "\u001b[1m29/29\u001b[0m \u001b[32m━━━━━━━━━━━━━━━━━━━━\u001b[0m\u001b[37m\u001b[0m \u001b[1m0s\u001b[0m 8ms/step - loss: 41.7003 - mean_absolute_percentage_error: 19.7639 - root_mean_squared_error: 6.4488 - val_loss: 43.9376 - val_mean_absolute_percentage_error: 16.8113 - val_root_mean_squared_error: 6.6285\n",
            "Epoch 58/100\n",
            "\u001b[1m29/29\u001b[0m \u001b[32m━━━━━━━━━━━━━━━━━━━━\u001b[0m\u001b[37m\u001b[0m \u001b[1m0s\u001b[0m 7ms/step - loss: 33.6991 - mean_absolute_percentage_error: 21.7022 - root_mean_squared_error: 5.7886 - val_loss: 42.4810 - val_mean_absolute_percentage_error: 16.9672 - val_root_mean_squared_error: 6.5177\n",
            "Epoch 59/100\n",
            "\u001b[1m29/29\u001b[0m \u001b[32m━━━━━━━━━━━━━━━━━━━━\u001b[0m\u001b[37m\u001b[0m \u001b[1m0s\u001b[0m 6ms/step - loss: 35.1004 - mean_absolute_percentage_error: 20.9337 - root_mean_squared_error: 5.9112 - val_loss: 41.9086 - val_mean_absolute_percentage_error: 17.1492 - val_root_mean_squared_error: 6.4737\n",
            "Epoch 60/100\n",
            "\u001b[1m29/29\u001b[0m \u001b[32m━━━━━━━━━━━━━━━━━━━━\u001b[0m\u001b[37m\u001b[0m \u001b[1m0s\u001b[0m 7ms/step - loss: 29.5240 - mean_absolute_percentage_error: 18.3107 - root_mean_squared_error: 5.4193 - val_loss: 41.1093 - val_mean_absolute_percentage_error: 17.8277 - val_root_mean_squared_error: 6.4117\n",
            "Epoch 61/100\n",
            "\u001b[1m29/29\u001b[0m \u001b[32m━━━━━━━━━━━━━━━━━━━━\u001b[0m\u001b[37m\u001b[0m \u001b[1m0s\u001b[0m 7ms/step - loss: 36.1673 - mean_absolute_percentage_error: 22.4638 - root_mean_squared_error: 5.9969 - val_loss: 46.8186 - val_mean_absolute_percentage_error: 17.0698 - val_root_mean_squared_error: 6.8424\n",
            "Epoch 62/100\n",
            "\u001b[1m29/29\u001b[0m \u001b[32m━━━━━━━━━━━━━━━━━━━━\u001b[0m\u001b[37m\u001b[0m \u001b[1m0s\u001b[0m 7ms/step - loss: 44.3151 - mean_absolute_percentage_error: 20.5255 - root_mean_squared_error: 6.6249 - val_loss: 48.5757 - val_mean_absolute_percentage_error: 17.3863 - val_root_mean_squared_error: 6.9696\n",
            "Epoch 63/100\n",
            "\u001b[1m29/29\u001b[0m \u001b[32m━━━━━━━━━━━━━━━━━━━━\u001b[0m\u001b[37m\u001b[0m \u001b[1m0s\u001b[0m 7ms/step - loss: 37.3639 - mean_absolute_percentage_error: 19.3492 - root_mean_squared_error: 6.0838 - val_loss: 46.6392 - val_mean_absolute_percentage_error: 16.8884 - val_root_mean_squared_error: 6.8293\n",
            "Epoch 64/100\n",
            "\u001b[1m29/29\u001b[0m \u001b[32m━━━━━━━━━━━━━━━━━━━━\u001b[0m\u001b[37m\u001b[0m \u001b[1m0s\u001b[0m 7ms/step - loss: 33.9292 - mean_absolute_percentage_error: 19.7044 - root_mean_squared_error: 5.7883 - val_loss: 44.0368 - val_mean_absolute_percentage_error: 16.6853 - val_root_mean_squared_error: 6.6360\n",
            "Epoch 65/100\n",
            "\u001b[1m29/29\u001b[0m \u001b[32m━━━━━━━━━━━━━━━━━━━━\u001b[0m\u001b[37m\u001b[0m \u001b[1m0s\u001b[0m 7ms/step - loss: 34.8699 - mean_absolute_percentage_error: 18.4541 - root_mean_squared_error: 5.8829 - val_loss: 42.4014 - val_mean_absolute_percentage_error: 16.3429 - val_root_mean_squared_error: 6.5116\n",
            "Epoch 66/100\n",
            "\u001b[1m29/29\u001b[0m \u001b[32m━━━━━━━━━━━━━━━━━━━━\u001b[0m\u001b[37m\u001b[0m \u001b[1m0s\u001b[0m 7ms/step - loss: 31.1204 - mean_absolute_percentage_error: 18.5400 - root_mean_squared_error: 5.5626 - val_loss: 41.2195 - val_mean_absolute_percentage_error: 16.3719 - val_root_mean_squared_error: 6.4202\n",
            "Epoch 67/100\n",
            "\u001b[1m29/29\u001b[0m \u001b[32m━━━━━━━━━━━━━━━━━━━━\u001b[0m\u001b[37m\u001b[0m \u001b[1m0s\u001b[0m 7ms/step - loss: 35.1976 - mean_absolute_percentage_error: 19.5684 - root_mean_squared_error: 5.9200 - val_loss: 44.0730 - val_mean_absolute_percentage_error: 16.5339 - val_root_mean_squared_error: 6.6387\n",
            "Epoch 68/100\n",
            "\u001b[1m29/29\u001b[0m \u001b[32m━━━━━━━━━━━━━━━━━━━━\u001b[0m\u001b[37m\u001b[0m \u001b[1m0s\u001b[0m 7ms/step - loss: 29.1867 - mean_absolute_percentage_error: 18.0898 - root_mean_squared_error: 5.3871 - val_loss: 41.1726 - val_mean_absolute_percentage_error: 16.1919 - val_root_mean_squared_error: 6.4166\n",
            "Epoch 69/100\n",
            "\u001b[1m29/29\u001b[0m \u001b[32m━━━━━━━━━━━━━━━━━━━━\u001b[0m\u001b[37m\u001b[0m \u001b[1m0s\u001b[0m 7ms/step - loss: 32.5068 - mean_absolute_percentage_error: 19.8907 - root_mean_squared_error: 5.6923 - val_loss: 40.1926 - val_mean_absolute_percentage_error: 16.4751 - val_root_mean_squared_error: 6.3398\n",
            "Epoch 70/100\n",
            "\u001b[1m29/29\u001b[0m \u001b[32m━━━━━━━━━━━━━━━━━━━━\u001b[0m\u001b[37m\u001b[0m \u001b[1m0s\u001b[0m 6ms/step - loss: 31.8568 - mean_absolute_percentage_error: 18.3234 - root_mean_squared_error: 5.5683 - val_loss: 41.6205 - val_mean_absolute_percentage_error: 16.2002 - val_root_mean_squared_error: 6.4514\n",
            "Epoch 71/100\n",
            "\u001b[1m29/29\u001b[0m \u001b[32m━━━━━━━━━━━━━━━━━━━━\u001b[0m\u001b[37m\u001b[0m \u001b[1m0s\u001b[0m 7ms/step - loss: 32.1750 - mean_absolute_percentage_error: 18.7071 - root_mean_squared_error: 5.6547 - val_loss: 38.2704 - val_mean_absolute_percentage_error: 16.7578 - val_root_mean_squared_error: 6.1863\n",
            "Epoch 72/100\n",
            "\u001b[1m29/29\u001b[0m \u001b[32m━━━━━━━━━━━━━━━━━━━━\u001b[0m\u001b[37m\u001b[0m \u001b[1m0s\u001b[0m 6ms/step - loss: 27.3232 - mean_absolute_percentage_error: 17.6693 - root_mean_squared_error: 5.2144 - val_loss: 38.2918 - val_mean_absolute_percentage_error: 16.6486 - val_root_mean_squared_error: 6.1880\n",
            "Epoch 73/100\n",
            "\u001b[1m29/29\u001b[0m \u001b[32m━━━━━━━━━━━━━━━━━━━━\u001b[0m\u001b[37m\u001b[0m \u001b[1m0s\u001b[0m 6ms/step - loss: 31.2629 - mean_absolute_percentage_error: 18.2216 - root_mean_squared_error: 5.5639 - val_loss: 40.4211 - val_mean_absolute_percentage_error: 16.1735 - val_root_mean_squared_error: 6.3578\n",
            "Epoch 74/100\n",
            "\u001b[1m29/29\u001b[0m \u001b[32m━━━━━━━━━━━━━━━━━━━━\u001b[0m\u001b[37m\u001b[0m \u001b[1m0s\u001b[0m 10ms/step - loss: 31.9211 - mean_absolute_percentage_error: 18.9009 - root_mean_squared_error: 5.6030 - val_loss: 46.9026 - val_mean_absolute_percentage_error: 17.4912 - val_root_mean_squared_error: 6.8485\n",
            "Epoch 75/100\n",
            "\u001b[1m29/29\u001b[0m \u001b[32m━━━━━━━━━━━━━━━━━━━━\u001b[0m\u001b[37m\u001b[0m \u001b[1m1s\u001b[0m 12ms/step - loss: 31.1320 - mean_absolute_percentage_error: 18.0585 - root_mean_squared_error: 5.5708 - val_loss: 39.9712 - val_mean_absolute_percentage_error: 16.1066 - val_root_mean_squared_error: 6.3223\n",
            "Epoch 76/100\n",
            "\u001b[1m29/29\u001b[0m \u001b[32m━━━━━━━━━━━━━━━━━━━━\u001b[0m\u001b[37m\u001b[0m \u001b[1m1s\u001b[0m 11ms/step - loss: 32.0101 - mean_absolute_percentage_error: 19.9422 - root_mean_squared_error: 5.6047 - val_loss: 48.5240 - val_mean_absolute_percentage_error: 17.8468 - val_root_mean_squared_error: 6.9659\n",
            "Epoch 77/100\n",
            "\u001b[1m29/29\u001b[0m \u001b[32m━━━━━━━━━━━━━━━━━━━━\u001b[0m\u001b[37m\u001b[0m \u001b[1m1s\u001b[0m 11ms/step - loss: 26.0235 - mean_absolute_percentage_error: 17.9034 - root_mean_squared_error: 5.0578 - val_loss: 42.4506 - val_mean_absolute_percentage_error: 16.5538 - val_root_mean_squared_error: 6.5154\n",
            "Epoch 78/100\n",
            "\u001b[1m29/29\u001b[0m \u001b[32m━━━━━━━━━━━━━━━━━━━━\u001b[0m\u001b[37m\u001b[0m \u001b[1m1s\u001b[0m 11ms/step - loss: 32.2237 - mean_absolute_percentage_error: 17.1378 - root_mean_squared_error: 5.6514 - val_loss: 38.7248 - val_mean_absolute_percentage_error: 16.2182 - val_root_mean_squared_error: 6.2229\n",
            "Epoch 79/100\n",
            "\u001b[1m29/29\u001b[0m \u001b[32m━━━━━━━━━━━━━━━━━━━━\u001b[0m\u001b[37m\u001b[0m \u001b[1m0s\u001b[0m 8ms/step - loss: 31.4876 - mean_absolute_percentage_error: 19.2906 - root_mean_squared_error: 5.5773 - val_loss: 45.0855 - val_mean_absolute_percentage_error: 17.0891 - val_root_mean_squared_error: 6.7146\n",
            "Epoch 80/100\n",
            "\u001b[1m29/29\u001b[0m \u001b[32m━━━━━━━━━━━━━━━━━━━━\u001b[0m\u001b[37m\u001b[0m \u001b[1m0s\u001b[0m 7ms/step - loss: 31.7959 - mean_absolute_percentage_error: 17.6418 - root_mean_squared_error: 5.6225 - val_loss: 42.9989 - val_mean_absolute_percentage_error: 16.7504 - val_root_mean_squared_error: 6.5574\n",
            "Epoch 81/100\n",
            "\u001b[1m29/29\u001b[0m \u001b[32m━━━━━━━━━━━━━━━━━━━━\u001b[0m\u001b[37m\u001b[0m \u001b[1m0s\u001b[0m 7ms/step - loss: 35.1689 - mean_absolute_percentage_error: 18.2317 - root_mean_squared_error: 5.9076 - val_loss: 41.3362 - val_mean_absolute_percentage_error: 16.5434 - val_root_mean_squared_error: 6.4293\n",
            "Epoch 82/100\n",
            "\u001b[1m29/29\u001b[0m \u001b[32m━━━━━━━━━━━━━━━━━━━━\u001b[0m\u001b[37m\u001b[0m \u001b[1m0s\u001b[0m 7ms/step - loss: 31.2862 - mean_absolute_percentage_error: 19.0682 - root_mean_squared_error: 5.5639 - val_loss: 35.9920 - val_mean_absolute_percentage_error: 16.2417 - val_root_mean_squared_error: 5.9993\n",
            "Epoch 83/100\n",
            "\u001b[1m29/29\u001b[0m \u001b[32m━━━━━━━━━━━━━━━━━━━━\u001b[0m\u001b[37m\u001b[0m \u001b[1m0s\u001b[0m 7ms/step - loss: 30.9970 - mean_absolute_percentage_error: 19.6979 - root_mean_squared_error: 5.5602 - val_loss: 35.8054 - val_mean_absolute_percentage_error: 16.5003 - val_root_mean_squared_error: 5.9838\n",
            "Epoch 84/100\n",
            "\u001b[1m29/29\u001b[0m \u001b[32m━━━━━━━━━━━━━━━━━━━━\u001b[0m\u001b[37m\u001b[0m \u001b[1m0s\u001b[0m 7ms/step - loss: 25.0953 - mean_absolute_percentage_error: 19.4281 - root_mean_squared_error: 4.9896 - val_loss: 35.5442 - val_mean_absolute_percentage_error: 16.4452 - val_root_mean_squared_error: 5.9619\n",
            "Epoch 85/100\n",
            "\u001b[1m29/29\u001b[0m \u001b[32m━━━━━━━━━━━━━━━━━━━━\u001b[0m\u001b[37m\u001b[0m \u001b[1m0s\u001b[0m 7ms/step - loss: 25.6840 - mean_absolute_percentage_error: 19.1022 - root_mean_squared_error: 5.0228 - val_loss: 35.2821 - val_mean_absolute_percentage_error: 16.4883 - val_root_mean_squared_error: 5.9399\n",
            "Epoch 86/100\n",
            "\u001b[1m29/29\u001b[0m \u001b[32m━━━━━━━━━━━━━━━━━━━━\u001b[0m\u001b[37m\u001b[0m \u001b[1m0s\u001b[0m 7ms/step - loss: 26.9917 - mean_absolute_percentage_error: 20.6876 - root_mean_squared_error: 5.1821 - val_loss: 37.3057 - val_mean_absolute_percentage_error: 21.2434 - val_root_mean_squared_error: 6.1078\n",
            "Epoch 87/100\n",
            "\u001b[1m29/29\u001b[0m \u001b[32m━━━━━━━━━━━━━━━━━━━━\u001b[0m\u001b[37m\u001b[0m \u001b[1m0s\u001b[0m 6ms/step - loss: 36.1685 - mean_absolute_percentage_error: 24.2024 - root_mean_squared_error: 6.0009 - val_loss: 36.0566 - val_mean_absolute_percentage_error: 21.1972 - val_root_mean_squared_error: 6.0047\n",
            "Epoch 88/100\n",
            "\u001b[1m29/29\u001b[0m \u001b[32m━━━━━━━━━━━━━━━━━━━━\u001b[0m\u001b[37m\u001b[0m \u001b[1m0s\u001b[0m 7ms/step - loss: 33.4146 - mean_absolute_percentage_error: 21.8570 - root_mean_squared_error: 5.7739 - val_loss: 36.4920 - val_mean_absolute_percentage_error: 15.9609 - val_root_mean_squared_error: 6.0409\n",
            "Epoch 89/100\n",
            "\u001b[1m29/29\u001b[0m \u001b[32m━━━━━━━━━━━━━━━━━━━━\u001b[0m\u001b[37m\u001b[0m \u001b[1m0s\u001b[0m 7ms/step - loss: 25.1019 - mean_absolute_percentage_error: 17.3363 - root_mean_squared_error: 4.9926 - val_loss: 33.9392 - val_mean_absolute_percentage_error: 17.0914 - val_root_mean_squared_error: 5.8257\n",
            "Epoch 90/100\n",
            "\u001b[1m29/29\u001b[0m \u001b[32m━━━━━━━━━━━━━━━━━━━━\u001b[0m\u001b[37m\u001b[0m \u001b[1m0s\u001b[0m 7ms/step - loss: 32.0201 - mean_absolute_percentage_error: 19.3474 - root_mean_squared_error: 5.6428 - val_loss: 39.8022 - val_mean_absolute_percentage_error: 16.3758 - val_root_mean_squared_error: 6.3089\n",
            "Epoch 91/100\n",
            "\u001b[1m29/29\u001b[0m \u001b[32m━━━━━━━━━━━━━━━━━━━━\u001b[0m\u001b[37m\u001b[0m \u001b[1m0s\u001b[0m 6ms/step - loss: 27.4019 - mean_absolute_percentage_error: 19.2761 - root_mean_squared_error: 5.2218 - val_loss: 33.8059 - val_mean_absolute_percentage_error: 16.1186 - val_root_mean_squared_error: 5.8143\n",
            "Epoch 92/100\n",
            "\u001b[1m29/29\u001b[0m \u001b[32m━━━━━━━━━━━━━━━━━━━━\u001b[0m\u001b[37m\u001b[0m \u001b[1m0s\u001b[0m 6ms/step - loss: 28.8451 - mean_absolute_percentage_error: 18.6265 - root_mean_squared_error: 5.3664 - val_loss: 37.6969 - val_mean_absolute_percentage_error: 16.0683 - val_root_mean_squared_error: 6.1398\n",
            "Epoch 93/100\n",
            "\u001b[1m29/29\u001b[0m \u001b[32m━━━━━━━━━━━━━━━━━━━━\u001b[0m\u001b[37m\u001b[0m \u001b[1m0s\u001b[0m 7ms/step - loss: 34.4044 - mean_absolute_percentage_error: 20.3696 - root_mean_squared_error: 5.7891 - val_loss: 38.5034 - val_mean_absolute_percentage_error: 15.8855 - val_root_mean_squared_error: 6.2051\n",
            "Epoch 94/100\n",
            "\u001b[1m29/29\u001b[0m \u001b[32m━━━━━━━━━━━━━━━━━━━━\u001b[0m\u001b[37m\u001b[0m \u001b[1m0s\u001b[0m 7ms/step - loss: 24.5925 - mean_absolute_percentage_error: 18.3986 - root_mean_squared_error: 4.9448 - val_loss: 37.3564 - val_mean_absolute_percentage_error: 15.9862 - val_root_mean_squared_error: 6.1120\n",
            "Epoch 95/100\n",
            "\u001b[1m29/29\u001b[0m \u001b[32m━━━━━━━━━━━━━━━━━━━━\u001b[0m\u001b[37m\u001b[0m \u001b[1m0s\u001b[0m 6ms/step - loss: 30.6822 - mean_absolute_percentage_error: 17.9896 - root_mean_squared_error: 5.4950 - val_loss: 33.1850 - val_mean_absolute_percentage_error: 17.6045 - val_root_mean_squared_error: 5.7606\n",
            "Epoch 96/100\n",
            "\u001b[1m29/29\u001b[0m \u001b[32m━━━━━━━━━━━━━━━━━━━━\u001b[0m\u001b[37m\u001b[0m \u001b[1m0s\u001b[0m 7ms/step - loss: 27.5492 - mean_absolute_percentage_error: 19.1951 - root_mean_squared_error: 5.2376 - val_loss: 34.7638 - val_mean_absolute_percentage_error: 16.0611 - val_root_mean_squared_error: 5.8961\n",
            "Epoch 97/100\n",
            "\u001b[1m29/29\u001b[0m \u001b[32m━━━━━━━━━━━━━━━━━━━━\u001b[0m\u001b[37m\u001b[0m \u001b[1m0s\u001b[0m 8ms/step - loss: 32.9232 - mean_absolute_percentage_error: 21.3209 - root_mean_squared_error: 5.7256 - val_loss: 35.7790 - val_mean_absolute_percentage_error: 15.7720 - val_root_mean_squared_error: 5.9816\n",
            "Epoch 98/100\n",
            "\u001b[1m29/29\u001b[0m \u001b[32m━━━━━━━━━━━━━━━━━━━━\u001b[0m\u001b[37m\u001b[0m \u001b[1m0s\u001b[0m 6ms/step - loss: 29.4086 - mean_absolute_percentage_error: 19.4592 - root_mean_squared_error: 5.4122 - val_loss: 32.5057 - val_mean_absolute_percentage_error: 16.2527 - val_root_mean_squared_error: 5.7014\n",
            "Epoch 99/100\n",
            "\u001b[1m29/29\u001b[0m \u001b[32m━━━━━━━━━━━━━━━━━━━━\u001b[0m\u001b[37m\u001b[0m \u001b[1m0s\u001b[0m 6ms/step - loss: 26.5701 - mean_absolute_percentage_error: 18.8940 - root_mean_squared_error: 5.1449 - val_loss: 42.0053 - val_mean_absolute_percentage_error: 17.0879 - val_root_mean_squared_error: 6.4811\n",
            "Epoch 100/100\n",
            "\u001b[1m29/29\u001b[0m \u001b[32m━━━━━━━━━━━━━━━━━━━━\u001b[0m\u001b[37m\u001b[0m \u001b[1m0s\u001b[0m 7ms/step - loss: 35.3269 - mean_absolute_percentage_error: 19.3262 - root_mean_squared_error: 5.9029 - val_loss: 35.1277 - val_mean_absolute_percentage_error: 15.6339 - val_root_mean_squared_error: 5.9269\n"
          ]
        }
      ]
    },
    {
      "cell_type": "markdown",
      "source": [
        "### Step 6: Evaluate the model"
      ],
      "metadata": {
        "id": "f9GcIycbhdYM"
      }
    },
    {
      "cell_type": "code",
      "source": [
        "pd.DataFrame(history.history)[['loss', 'val_loss', 'root_mean_squared_error', 'val_root_mean_squared_error']].plot(figsize=(8,5))\n",
        "plt.grid(True)\n",
        "plt.show()"
      ],
      "metadata": {
        "colab": {
          "base_uri": "https://localhost:8080/",
          "height": 445
        },
        "id": "TYPWKNPHmUEO",
        "outputId": "e725f683-1b75-4689-ff91-7099ded44bc6"
      },
      "execution_count": 14,
      "outputs": [
        {
          "output_type": "display_data",
          "data": {
            "text/plain": [
              "<Figure size 800x500 with 1 Axes>"
            ],
            "image/png": "[encoded data removed]"
          },
          "metadata": {}
        }
      ]
    },
    {
      "cell_type": "code",
      "source": [
        "pd.DataFrame(history.history)[['mean_absolute_percentage_error', 'val_mean_absolute_percentage_error']].plot(figsize=(8,5))\n",
        "plt.grid(True)\n",
        "plt.show()"
      ],
      "metadata": {
        "colab": {
          "base_uri": "https://localhost:8080/",
          "height": 445
        },
        "id": "HyRMtK9Pm0Dz",
        "outputId": "df4fd426-2734-4885-eb8a-4aeaf9004030"
      },
      "execution_count": 15,
      "outputs": [
        {
          "output_type": "display_data",
          "data": {
            "text/plain": [
              "<Figure size 800x500 with 1 Axes>"
            ],
            "image/png": "[encoded data removed]"
          },
          "metadata": {}
        }
      ]
    },
    {
      "cell_type": "code",
      "source": [
        "#evaluate the model\n",
        "scores = model.evaluate(X_test, y_test)\n",
        "print(\"metrices\", model.metrics_names)\n",
        "print(scores)\n",
        "# print(\"\\n%s: %.2f%%\" % (model.metrics_names[0], scores))"
      ],
      "metadata": {
        "colab": {
          "base_uri": "https://localhost:8080/"
        },
        "id": "fjKm2tyzgqEM",
        "outputId": "967ee759-7fc0-4a41-a8f2-f63faf7e7200"
      },
      "execution_count": 16,
      "outputs": [
        {
          "output_type": "stream",
          "name": "stdout",
          "text": [
            "\u001b[1m4/4\u001b[0m \u001b[32m━━━━━━━━━━━━━━━━━━━━\u001b[0m\u001b[37m\u001b[0m \u001b[1m0s\u001b[0m 13ms/step - loss: 27.5851 - mean_absolute_percentage_error: 17.9909 - root_mean_squared_error: 5.2365\n",
            "metrices ['loss', 'compile_metrics']\n",
            "[29.235212326049805, 5.406959533691406, 18.357421875]\n"
          ]
        }
      ]
    },
    {
      "cell_type": "code",
      "source": [
        "for layer in model.layers:\n",
        "    print(f\"Layer: {layer.name}\")\n",
        "    weights = layer.get_weights()\n",
        "    if weights:\n",
        "        print(f\"  Weights shape: {weights[0].shape}\")\n",
        "        print(f\"  Weights: \\n{weights[0]}\")\n",
        "        print(f\"  Biases shape: {weights[1].shape}\")\n",
        "        print(f\"  Biases: \\n{weights[1]}\")\n",
        "    else:\n",
        "        print(\"  No weights (e.g., Dropout or Flatten layer)\")"
      ],
      "metadata": {
        "colab": {
          "base_uri": "https://localhost:8080/"
        },
        "id": "-De45XNfhjFI",
        "outputId": "c24e86d7-a460-4d7d-bff2-250161fa7205"
      },
      "execution_count": 17,
      "outputs": [
        {
          "output_type": "stream",
          "name": "stdout",
          "text": [
            "Layer: dense\n",
            "  Weights shape: (13, 13)\n",
            "  Weights: \n",
            "[[ 1.09522231e-01 -2.25664645e-01 -9.01788357e-04 -1.97198197e-01\n",
            "  -2.03085780e-01 -1.58446759e-01 -1.16153121e-01  9.80032906e-02\n",
            "   5.97693734e-02  1.01898216e-01 -2.39563480e-01 -1.68276906e-01\n",
            "  -3.09118126e-02]\n",
            " [ 3.54548618e-02 -4.47167223e-03 -1.14357527e-02  3.52688730e-02\n",
            "   3.42843793e-02  7.94735700e-02  6.70237318e-02  1.19458688e-02\n",
            "  -3.49896699e-02 -7.54589438e-02  1.15546055e-01  9.00839865e-02\n",
            "   2.67841462e-02]\n",
            " [-1.04782902e-01  1.51237771e-01 -1.33516442e-03  2.49320045e-02\n",
            "   2.03884263e-02 -4.40945253e-02  8.84419605e-02 -1.86438009e-03\n",
            "  -5.22177704e-02 -1.99939590e-02  2.72203051e-02  1.19130462e-01\n",
            "   4.37803157e-02]\n",
            " [-9.40290093e-01  9.38896477e-01 -2.44877115e-02  7.81064153e-01\n",
            "   9.45253551e-01  9.19150054e-01  1.00063586e+00  5.60416356e-02\n",
            "  -1.16202272e-01 -7.49424398e-01  9.23321366e-01  9.79928970e-01\n",
            "  -4.36752252e-02]\n",
            " [-1.93468064e-01  2.20804676e-01  2.80912244e-03  1.95332304e-01\n",
            "   2.09922001e-01  2.21156955e-01  2.35779852e-01  2.47610430e-03\n",
            "   3.72385494e-02 -1.95940167e-01  8.29621926e-02  1.98259264e-01\n",
            "   5.57591058e-02]\n",
            " [-6.36906266e-01  5.63571155e-01  7.66228838e-03  5.55667818e-01\n",
            "   6.12750053e-01  6.12897396e-01  6.82780564e-01  9.05792508e-03\n",
            "   9.76190791e-02 -3.84733349e-01  4.88000512e-01  5.59684157e-01\n",
            "  -2.33861283e-04]\n",
            " [-1.16115429e-01  5.03668785e-02 -5.30881844e-02  4.97105867e-02\n",
            "   1.21322619e-02  4.07343321e-02  1.23449259e-01  1.35911936e-02\n",
            "  -1.92322843e-02 -4.18383479e-02 -2.46126708e-02  8.56359079e-02\n",
            "  -5.25192767e-02]\n",
            " [ 2.17074752e-01 -1.83756337e-01 -1.04285702e-01 -2.25973934e-01\n",
            "  -2.73918897e-01 -3.14957052e-01 -2.77697295e-01  4.29037847e-02\n",
            "  -8.12158063e-02  1.48358926e-01 -3.00537169e-01 -2.54953504e-01\n",
            "   5.58795221e-02]\n",
            " [-7.87368715e-02  9.30728614e-02 -5.75720295e-02  2.18022782e-02\n",
            "   5.91350235e-02  4.60118465e-02  1.81682482e-01  2.57055741e-02\n",
            "  -1.16335325e-01 -6.12562932e-02  2.12549329e-01  5.59149534e-02\n",
            "   1.36960100e-03]\n",
            " [ 4.10882980e-02  5.58328107e-02  9.92725138e-04  9.98078212e-02\n",
            "   3.35612819e-02 -1.07580900e-01 -2.66307313e-03 -8.77169520e-02\n",
            "  -5.06417938e-02  1.08638652e-01 -1.31795299e-04  1.28733605e-01\n",
            "  -3.36985546e-03]\n",
            " [ 9.96104553e-02  1.28136277e-02  4.21376489e-02  7.22500384e-02\n",
            "   4.25541326e-02 -6.14820048e-02 -7.57191256e-02 -9.74436582e-04\n",
            "   3.00544407e-02  3.02693038e-03 -1.13741189e-01 -4.15319912e-02\n",
            "   5.52313924e-02]\n",
            " [ 1.98126696e-02  4.77250526e-03 -7.26405904e-02  6.64910600e-02\n",
            "   6.44654334e-02  2.11648524e-01 -8.45022441e-04  2.97669973e-02\n",
            "   9.67159402e-03 -2.73179058e-02  2.67565865e-02 -5.16176298e-02\n",
            "  -3.42207886e-02]\n",
            " [ 6.67064667e-01 -5.78640819e-01  3.83447297e-02 -4.53956157e-01\n",
            "  -6.57193899e-01 -9.13574517e-01 -9.93052363e-01  1.68768596e-02\n",
            "  -3.80419157e-02  3.94265234e-01 -8.47624719e-01 -5.16512990e-01\n",
            "   3.37399319e-02]]\n",
            "  Biases shape: (13,)\n",
            "  Biases: \n",
            "[-0.24568367  0.28101808 -0.01113716  0.24061997  0.27417406  0.25354946\n",
            "  0.26357427 -0.00516105  0.         -0.21634433  0.19052555  0.24615835\n",
            " -0.00790128]\n",
            "Layer: dense_1\n",
            "  Weights shape: (13, 1)\n",
            "  Weights: \n",
            "[[-0.2658451 ]\n",
            " [ 0.12334917]\n",
            " [-0.00434188]\n",
            " [ 0.11721952]\n",
            " [ 0.06436098]\n",
            " [ 0.29445294]\n",
            " [ 0.23776037]\n",
            " [-0.00845851]\n",
            " [-0.03557486]\n",
            " [-0.04285628]\n",
            " [ 0.23910816]\n",
            " [ 0.11920813]\n",
            " [-0.01383969]]\n",
            "  Biases shape: (1,)\n",
            "  Biases: \n",
            "[0.21399535]\n"
          ]
        }
      ]
    },
    {
      "cell_type": "code",
      "source": [
        "all_weights = model.get_weights()\n",
        "for i, param in enumerate(all_weights):\n",
        "    print(f\"Param {i} shape: {param.shape}\\n{param}\\n\")"
      ],
      "metadata": {
        "colab": {
          "base_uri": "https://localhost:8080/"
        },
        "id": "zCyEzb1-i-uD",
        "outputId": "60b80da7-6f22-4d48-8fef-57b74d0000ca"
      },
      "execution_count": 18,
      "outputs": [
        {
          "output_type": "stream",
          "name": "stdout",
          "text": [
            "Param 0 shape: (13, 13)\n",
            "[[ 1.09522231e-01 -2.25664645e-01 -9.01788357e-04 -1.97198197e-01\n",
            "  -2.03085780e-01 -1.58446759e-01 -1.16153121e-01  9.80032906e-02\n",
            "   5.97693734e-02  1.01898216e-01 -2.39563480e-01 -1.68276906e-01\n",
            "  -3.09118126e-02]\n",
            " [ 3.54548618e-02 -4.47167223e-03 -1.14357527e-02  3.52688730e-02\n",
            "   3.42843793e-02  7.94735700e-02  6.70237318e-02  1.19458688e-02\n",
            "  -3.49896699e-02 -7.54589438e-02  1.15546055e-01  9.00839865e-02\n",
            "   2.67841462e-02]\n",
            " [-1.04782902e-01  1.51237771e-01 -1.33516442e-03  2.49320045e-02\n",
            "   2.03884263e-02 -4.40945253e-02  8.84419605e-02 -1.86438009e-03\n",
            "  -5.22177704e-02 -1.99939590e-02  2.72203051e-02  1.19130462e-01\n",
            "   4.37803157e-02]\n",
            " [-9.40290093e-01  9.38896477e-01 -2.44877115e-02  7.81064153e-01\n",
            "   9.45253551e-01  9.19150054e-01  1.00063586e+00  5.60416356e-02\n",
            "  -1.16202272e-01 -7.49424398e-01  9.23321366e-01  9.79928970e-01\n",
            "  -4.36752252e-02]\n",
            " [-1.93468064e-01  2.20804676e-01  2.80912244e-03  1.95332304e-01\n",
            "   2.09922001e-01  2.21156955e-01  2.35779852e-01  2.47610430e-03\n",
            "   3.72385494e-02 -1.95940167e-01  8.29621926e-02  1.98259264e-01\n",
            "   5.57591058e-02]\n",
            " [-6.36906266e-01  5.63571155e-01  7.66228838e-03  5.55667818e-01\n",
            "   6.12750053e-01  6.12897396e-01  6.82780564e-01  9.05792508e-03\n",
            "   9.76190791e-02 -3.84733349e-01  4.88000512e-01  5.59684157e-01\n",
            "  -2.33861283e-04]\n",
            " [-1.16115429e-01  5.03668785e-02 -5.30881844e-02  4.97105867e-02\n",
            "   1.21322619e-02  4.07343321e-02  1.23449259e-01  1.35911936e-02\n",
            "  -1.92322843e-02 -4.18383479e-02 -2.46126708e-02  8.56359079e-02\n",
            "  -5.25192767e-02]\n",
            " [ 2.17074752e-01 -1.83756337e-01 -1.04285702e-01 -2.25973934e-01\n",
            "  -2.73918897e-01 -3.14957052e-01 -2.77697295e-01  4.29037847e-02\n",
            "  -8.12158063e-02  1.48358926e-01 -3.00537169e-01 -2.54953504e-01\n",
            "   5.58795221e-02]\n",
            " [-7.87368715e-02  9.30728614e-02 -5.75720295e-02  2.18022782e-02\n",
            "   5.91350235e-02  4.60118465e-02  1.81682482e-01  2.57055741e-02\n",
            "  -1.16335325e-01 -6.12562932e-02  2.12549329e-01  5.59149534e-02\n",
            "   1.36960100e-03]\n",
            " [ 4.10882980e-02  5.58328107e-02  9.92725138e-04  9.98078212e-02\n",
            "   3.35612819e-02 -1.07580900e-01 -2.66307313e-03 -8.77169520e-02\n",
            "  -5.06417938e-02  1.08638652e-01 -1.31795299e-04  1.28733605e-01\n",
            "  -3.36985546e-03]\n",
            " [ 9.96104553e-02  1.28136277e-02  4.21376489e-02  7.22500384e-02\n",
            "   4.25541326e-02 -6.14820048e-02 -7.57191256e-02 -9.74436582e-04\n",
            "   3.00544407e-02  3.02693038e-03 -1.13741189e-01 -4.15319912e-02\n",
            "   5.52313924e-02]\n",
            " [ 1.98126696e-02  4.77250526e-03 -7.26405904e-02  6.64910600e-02\n",
            "   6.44654334e-02  2.11648524e-01 -8.45022441e-04  2.97669973e-02\n",
            "   9.67159402e-03 -2.73179058e-02  2.67565865e-02 -5.16176298e-02\n",
            "  -3.42207886e-02]\n",
            " [ 6.67064667e-01 -5.78640819e-01  3.83447297e-02 -4.53956157e-01\n",
            "  -6.57193899e-01 -9.13574517e-01 -9.93052363e-01  1.68768596e-02\n",
            "  -3.80419157e-02  3.94265234e-01 -8.47624719e-01 -5.16512990e-01\n",
            "   3.37399319e-02]]\n",
            "\n",
            "Param 1 shape: (13,)\n",
            "[-0.24568367  0.28101808 -0.01113716  0.24061997  0.27417406  0.25354946\n",
            "  0.26357427 -0.00516105  0.         -0.21634433  0.19052555  0.24615835\n",
            " -0.00790128]\n",
            "\n",
            "Param 2 shape: (13, 1)\n",
            "[[-0.2658451 ]\n",
            " [ 0.12334917]\n",
            " [-0.00434188]\n",
            " [ 0.11721952]\n",
            " [ 0.06436098]\n",
            " [ 0.29445294]\n",
            " [ 0.23776037]\n",
            " [-0.00845851]\n",
            " [-0.03557486]\n",
            " [-0.04285628]\n",
            " [ 0.23910816]\n",
            " [ 0.11920813]\n",
            " [-0.01383969]]\n",
            "\n",
            "Param 3 shape: (1,)\n",
            "[0.21399535]\n",
            "\n"
          ]
        }
      ]
    }
  ]
}